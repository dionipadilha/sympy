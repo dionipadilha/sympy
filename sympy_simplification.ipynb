{
  "nbformat": 4,
  "nbformat_minor": 0,
  "metadata": {
    "colab": {
      "provenance": [],
      "authorship_tag": "ABX9TyPayUz7qC1NQUJxMJCTOomA",
      "include_colab_link": true
    },
    "kernelspec": {
      "name": "python3",
      "display_name": "Python 3"
    },
    "language_info": {
      "name": "python"
    }
  },
  "cells": [
    {
      "cell_type": "markdown",
      "metadata": {
        "id": "view-in-github",
        "colab_type": "text"
      },
      "source": [
        "<a href=\"https://colab.research.google.com/github/dionipadilha/sympy/blob/main/sympy_simplification.ipynb\" target=\"_parent\"><img src=\"https://colab.research.google.com/assets/colab-badge.svg\" alt=\"Open In Colab\"/></a>"
      ]
    },
    {
      "cell_type": "code",
      "source": [
        "# Sympy Core Simplifications\n",
        "from sympy import Eq, simplify, cancel, expand, factor, together, apart, collect"
      ],
      "metadata": {
        "id": "dZom4pwNofNW"
      },
      "execution_count": null,
      "outputs": []
    },
    {
      "cell_type": "code",
      "execution_count": null,
      "metadata": {
        "id": "tHJ0wPTEmOag"
      },
      "outputs": [],
      "source": [
        "# symbolic env\n",
        "from sympy import symbols, init_printing, Function\n",
        "x, y, z = symbols('x, y, z')\n",
        "r, s, t = symbols('r, s, t')\n",
        "a, b, c, d = symbols('a, b, c, d', integer=True)\n",
        "k, m, n = symbols('k, m, n', integer=True)\n",
        "f, g, h = symbols('f, g, h', cls=Function)\n",
        "init_printing()"
      ]
    },
    {
      "cell_type": "code",
      "source": [
        "# represent that two objects are equal\n",
        "Eq( x, a + b)"
      ],
      "metadata": {
        "colab": {
          "base_uri": "https://localhost:8080/",
          "height": 38
        },
        "id": "bNujLwHE6Hq8",
        "outputId": "9ab8718b-dba8-42c0-f49d-290eb531fc5f"
      },
      "execution_count": null,
      "outputs": [
        {
          "output_type": "execute_result",
          "data": {
            "text/plain": [
              "x = a + b"
            ],
            "text/latex": "$\\displaystyle x = a + b$"
          },
          "metadata": {},
          "execution_count": 3
        }
      ]
    },
    {
      "cell_type": "code",
      "source": [
        "# use heuristics to determine the simplest result\n",
        "expr = (x + 1)**2 / (x**2 + x)\n",
        "Eq(expr, expr.simplify())"
      ],
      "metadata": {
        "colab": {
          "base_uri": "https://localhost:8080/",
          "height": 58
        },
        "id": "4IbgEgAZtscF",
        "outputId": "16584142-9da5-4393-ff66-b0fa31fee238"
      },
      "execution_count": null,
      "outputs": [
        {
          "output_type": "execute_result",
          "data": {
            "text/plain": [
              "       2        \n",
              "(x + 1)    x + 1\n",
              "──────── = ─────\n",
              "  2          x  \n",
              " x  + x         "
            ],
            "text/latex": "$\\displaystyle \\frac{\\left(x + 1\\right)^{2}}{x^{2} + x} = \\frac{x + 1}{x}$"
          },
          "metadata": {},
          "execution_count": 4
        }
      ]
    },
    {
      "cell_type": "code",
      "source": [
        "# canonical form for rational function\n",
        "expr = (x + 1)**2/(x**2 + x)\n",
        "Eq(expr, expr.cancel())"
      ],
      "metadata": {
        "colab": {
          "base_uri": "https://localhost:8080/",
          "height": 58
        },
        "id": "OFQgLBe3rgLs",
        "outputId": "d24f8705-e84b-49a4-cbba-b50e3aa51360"
      },
      "execution_count": null,
      "outputs": [
        {
          "output_type": "execute_result",
          "data": {
            "text/plain": [
              "       2        \n",
              "(x + 1)    x + 1\n",
              "──────── = ─────\n",
              "  2          x  \n",
              " x  + x         "
            ],
            "text/latex": "$\\displaystyle \\frac{\\left(x + 1\\right)^{2}}{x^{2} + x} = \\frac{x + 1}{x}$"
          },
          "metadata": {},
          "execution_count": 5
        }
      ]
    },
    {
      "cell_type": "code",
      "source": [
        "# canonical form of a sum of monomials\n",
        "expr = (x + 1)**2\n",
        "Eq(expr, expr.expand())"
      ],
      "metadata": {
        "colab": {
          "base_uri": "https://localhost:8080/",
          "height": 39
        },
        "id": "lpVgzPtz0bt_",
        "outputId": "6958efd1-e639-4b14-d7cd-78afba4141fd"
      },
      "execution_count": null,
      "outputs": [
        {
          "output_type": "execute_result",
          "data": {
            "text/plain": [
              "       2    2          \n",
              "(x + 1)  = x  + 2⋅x + 1"
            ],
            "text/latex": "$\\displaystyle \\left(x + 1\\right)^{2} = x^{2} + 2 x + 1$"
          },
          "metadata": {},
          "execution_count": 6
        }
      ]
    },
    {
      "cell_type": "code",
      "source": [
        "# irreducible factors over the rational numbers\n",
        "expr = x**2 + 2*x + 1\n",
        "Eq(expr, expr.factor())"
      ],
      "metadata": {
        "colab": {
          "base_uri": "https://localhost:8080/",
          "height": 39
        },
        "id": "2zaXoUEdmjPd",
        "outputId": "b719a5d0-8b0d-4aae-96ea-b5757d5ba087"
      },
      "execution_count": null,
      "outputs": [
        {
          "output_type": "execute_result",
          "data": {
            "text/plain": [
              " 2                    2\n",
              "x  + 2⋅x + 1 = (x + 1) "
            ],
            "text/latex": "$\\displaystyle x^{2} + 2 x + 1 = \\left(x + 1\\right)^{2}$"
          },
          "metadata": {},
          "execution_count": 7
        }
      ]
    },
    {
      "cell_type": "code",
      "source": [
        "# partial fraction composition\n",
        "expr = 1 + (1 / x)\n",
        "Eq(expr, expr.together())"
      ],
      "metadata": {
        "colab": {
          "base_uri": "https://localhost:8080/",
          "height": 51
        },
        "id": "XK7z_ritrY98",
        "outputId": "c8b912b7-4e3d-49a0-ab21-5efed7f175b1"
      },
      "execution_count": null,
      "outputs": [
        {
          "output_type": "execute_result",
          "data": {
            "text/plain": [
              "    1   x + 1\n",
              "1 + ─ = ─────\n",
              "    x     x  "
            ],
            "text/latex": "$\\displaystyle 1 + \\frac{1}{x} = \\frac{x + 1}{x}$"
          },
          "metadata": {},
          "execution_count": 8
        }
      ]
    },
    {
      "cell_type": "code",
      "source": [
        "# partial fraction decomposition\n",
        "expr = (x + 1) / x\n",
        "Eq(expr, expr.apart())"
      ],
      "metadata": {
        "colab": {
          "base_uri": "https://localhost:8080/",
          "height": 51
        },
        "id": "9blGCOjinhrD",
        "outputId": "80bca42b-4d8f-4ea1-9875-44ce8b7c4142"
      },
      "execution_count": null,
      "outputs": [
        {
          "output_type": "execute_result",
          "data": {
            "text/plain": [
              "x + 1       1\n",
              "───── = 1 + ─\n",
              "  x         x"
            ],
            "text/latex": "$\\displaystyle \\frac{x + 1}{x} = 1 + \\frac{1}{x}$"
          },
          "metadata": {},
          "execution_count": 9
        }
      ]
    },
    {
      "cell_type": "code",
      "source": [
        "# collects common powers of a term in an expression\n",
        "expr = x*y + x - 3 + 2*x**2 - z*x**2 + x**3\n",
        "Eq(expr, expr.collect(x))"
      ],
      "metadata": {
        "colab": {
          "base_uri": "https://localhost:8080/",
          "height": 38
        },
        "id": "9my5ktdepX9E",
        "outputId": "c3a8a3e8-0dde-44e9-c6d6-240c13b97450"
      },
      "execution_count": null,
      "outputs": [
        {
          "output_type": "execute_result",
          "data": {
            "text/plain": [
              " 3    2        2                  3    2                        \n",
              "x  - x ⋅z + 2⋅x  + x⋅y + x - 3 = x  + x ⋅(2 - z) + x⋅(y + 1) - 3"
            ],
            "text/latex": "$\\displaystyle x^{3} - x^{2} z + 2 x^{2} + x y + x - 3 = x^{3} + x^{2} \\left(2 - z\\right) + x \\left(y + 1\\right) - 3$"
          },
          "metadata": {},
          "execution_count": 10
        }
      ]
    }
  ]
}